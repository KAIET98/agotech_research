{
 "cells": [
  {
   "cell_type": "code",
   "execution_count": 3,
   "metadata": {
    "colab": {
     "base_uri": "https://localhost:8080/",
     "height": 253
    },
    "id": "m_nHDhisSFvM",
    "outputId": "e1d0dd0b-f64b-42a6-f3f6-027a5df8bc4b"
   },
   "outputs": [
    {
     "name": "stdout",
     "output_type": "stream",
     "text": [
      "http://history.openweathermap.org/data/2.5/history/city?q=madrid,UK&appid=f60177e719a5864b800a5d2cf685d996\n",
      "{'cod': 401, 'message': 'Invalid API key. Please see http://openweathermap.org/faq#error401 for more info.'}\n"
     ]
    }
   ],
   "source": [
    "import requests\n",
    "from pprint import pprint\n",
    "import csv\n",
    "import codecs\n",
    "import urllib.request\n",
    "import urllib.error\n",
    "import sys\n",
    "\n",
    "\n",
    "city = \"madrid\"\n",
    "apikey = \"f60177e719a5864b800a5d2cf685d996\"\n",
    "\n",
    "api_key_kaiet = 'YZRAHHC52QB5VWTR5FZ5JE9WK'\n",
    "#url = \"http://api.openweathermap.org/data/2.5/weather?q={}&appid=f60177e719a5864b800a5d2cf685d996&units=metric\".format(city)\n",
    "\n",
    "url = \"http://history.openweathermap.org/data/2.5/history/city?q={},UK&appid=f60177e719a5864b800a5d2cf685d996\".format(city)\n",
    "\n",
    "\n",
    "print(url)\n",
    "res = requests.get(url)\n",
    "\n",
    "data = res.json()\n",
    "\n",
    "print(data)\n"
   ]
  },
  {
   "cell_type": "code",
   "execution_count": null,
   "metadata": {},
   "outputs": [],
   "source": [
    "\n",
    "temp = data[\"main\"][\"temp\"]\n",
    "vel_viento = data[\"wind\"][\"speed\"]\n",
    "\n",
    "latitud = data[\"coord\"][\"lat\"]\n",
    "longitud = data[\"coord\"][\"lon\"]\n",
    "\n",
    "descripcion = data[\"weather\"][0][\"description\"]\n",
    "\n",
    "print(\"Tempreratura: \", temp)\n",
    "print(\"Velocidad del viento: {} m/s\".format(vel_viento))\n",
    "print(\"Latitud: {}\".format(latitud))\n",
    "print(\"Longitud: {}\".format(longitud))\n",
    "print(\"Descripción: {}\".format(descripcion))"
   ]
  },
  {
   "cell_type": "code",
   "execution_count": null,
   "metadata": {
    "colab": {
     "base_uri": "https://localhost:8080/"
    },
    "id": "4uWeJL5KVn7c",
    "outputId": "afe37deb-052f-42af-8ec7-2d2eeff813aa"
   },
   "outputs": [],
   "source": [
    "apikey = \"XNAPA3CXBVN5FADESMHSDCC62\"\n",
    "url=\"https://weather.visualcrossing.com/VisualCrossingWebServices/rest/services/timeline/albacete/2022-01-16/2022-02-16?unitGroup=us&key=\"+apikey+\"&contentType=json\"\n",
    "\n",
    "print(url)"
   ]
  },
  {
   "cell_type": "code",
   "execution_count": null,
   "metadata": {
    "colab": {
     "base_uri": "https://localhost:8080/"
    },
    "id": "LIHPX2yuddQ5",
    "outputId": "df67d717-2dc2-43d3-c38f-e0d40a9bae7a"
   },
   "outputs": [],
   "source": [
    "pip install meteostat==0.3.0"
   ]
  },
  {
   "cell_type": "code",
   "execution_count": null,
   "metadata": {
    "id": "dDT58z03dUsY"
   },
   "outputs": [],
   "source": []
  },
  {
   "cell_type": "code",
   "execution_count": null,
   "metadata": {
    "colab": {
     "base_uri": "https://localhost:8080/"
    },
    "id": "0j1qh7qbcKG7",
    "outputId": "7983c661-3849-440e-d8ff-dbd9e7c2ac8e"
   },
   "outputs": [],
   "source": [
    "\n",
    "import urllib.parse\n",
    "import urllib.request\n",
    "import json\n",
    "import time\n",
    "import matplotlib.pyplot as plt\n",
    "import pandas as pd\n",
    "\n",
    "\n",
    "API_KEY=\"XNAPA3CXBVN5FADESMHSDCC62\"\n",
    "LOCATION=\"madrid\"\n",
    "UNIT_GROUP=\"metric\"\n",
    "\n",
    "#https://weather.visualcrossing.com/VisualCrossingWebServices/rest/services/timeline/madrid?key=XNAPA3CXBVN5FADESMHSDCC62&unitGroup=metric&include=days\n",
    "#https://weather.visualcrossing.com/VisualCrossingWebServices/rest/services/timeline/albacete/2022-01-16/2022-02-16?unitGroup=us&key=XNAPA3CXBVN5FADESMHSDCC62&contentType=json\n",
    "\n",
    "def getWeatherForecast():\n",
    "         requestUrl = \"https://weather.visualcrossing.com/VisualCrossingWebServices/rest/services/timeline/\" + urllib.parse.quote_plus(LOCATION) + \"/2022-01-01/2022-02-16\"\n",
    "         requestUrl = requestUrl+\"?key=\"+API_KEY+\"&unitGroup=\"+UNIT_GROUP+\"&include=days\";\n",
    "         \n",
    "         print('Weather requestUrl={requestUrl}'.format(requestUrl=requestUrl))\n",
    "\n",
    "         try:\n",
    "                 req = urllib.request.urlopen(requestUrl)\n",
    "         except:\n",
    "                 print(\"Could not read from:\"+requestUrl);\n",
    "                 return []\n",
    "                \n",
    "         rawForecastData = req.read()\n",
    "         req.close()\n",
    "         return json.loads(rawForecastData)\n",
    "    \n",
    "weatherForecast = getWeatherForecast()\n",
    "\n",
    "print('Weather forecast for {location}'.format(location=weatherForecast['resolvedAddress']))\n",
    "days=weatherForecast['days'];\n",
    "\n",
    "for day in days:\n",
    "    print('{datetime} tempmax:{tempmax} tempmin:{tempmin} description:{description}'.format(datetime=day['datetime'], tempmax=day[\"tempmax\"], tempmin=day[\"tempmin\"], description=day[\"description\"]))"
   ]
  },
  {
   "cell_type": "markdown",
   "metadata": {
    "id": "2_FBB9P-jRvM"
   },
   "source": [
    "2. Intentar acceder al historico de datos de temperaturas, humedad relativa y lluvia de AEMET. Los ultimos dos aun no los hemos conseguido en un rango de fechas. "
   ]
  },
  {
   "cell_type": "code",
   "execution_count": null,
   "metadata": {
    "id": "IiIM2_jnjYmL"
   },
   "outputs": [],
   "source": []
  }
 ],
 "metadata": {
  "colab": {
   "collapsed_sections": [],
   "name": "TFM test",
   "provenance": []
  },
  "kernelspec": {
   "display_name": "Python 3",
   "language": "python",
   "name": "python3"
  },
  "language_info": {
   "codemirror_mode": {
    "name": "ipython",
    "version": 3
   },
   "file_extension": ".py",
   "mimetype": "text/x-python",
   "name": "python",
   "nbconvert_exporter": "python",
   "pygments_lexer": "ipython3",
   "version": "3.8.8"
  }
 },
 "nbformat": 4,
 "nbformat_minor": 4
}
