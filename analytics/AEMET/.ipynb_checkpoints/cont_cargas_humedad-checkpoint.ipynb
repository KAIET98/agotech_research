{
 "cells": [
  {
   "cell_type": "markdown",
   "id": "2d0a7e5c-c868-4c4a-b975-7bdf37b26711",
   "metadata": {},
   "source": [
    "# Control de cargas de la tabla de humedad"
   ]
  },
  {
   "cell_type": "markdown",
   "id": "38a7e08e-3e9e-4dbb-a768-7e03b2da603f",
   "metadata": {},
   "source": [
    "El principal objetivo de este cuaderno es mostrar una gráfica donde muestre la evolución de la humedad en las cargas que vamos a haciendo por medio del script on premise en 'aplicacion_insert_into.py' dentro de la carpetga de AWS_SCRIPT/SQL"
   ]
  },
  {
   "cell_type": "code",
   "execution_count": 97,
   "id": "da39cd8d-2722-46ca-8ad9-649c6a6c15f3",
   "metadata": {},
   "outputs": [
    {
     "name": "stdout",
     "output_type": "stream",
     "text": [
      "Requirement already satisfied: pymysql in c:\\users\\kaiet.iglesias_bluet\\appdata\\local\\programs\\python\\python310\\lib\\site-packages (1.0.2)\n"
     ]
    }
   ],
   "source": [
    "!pip install pymysql"
   ]
  },
  {
   "cell_type": "code",
   "execution_count": 98,
   "id": "03838691-ea38-4ee5-a613-6fe28d4f64fe",
   "metadata": {},
   "outputs": [
    {
     "name": "stdout",
     "output_type": "stream",
     "text": [
      "Requirement already satisfied: cryptography in c:\\users\\kaiet.iglesias_bluet\\appdata\\local\\programs\\python\\python310\\lib\\site-packages (36.0.2)\n",
      "Requirement already satisfied: cffi>=1.12 in c:\\users\\kaiet.iglesias_bluet\\appdata\\local\\programs\\python\\python310\\lib\\site-packages (from cryptography) (1.15.0)\n",
      "Requirement already satisfied: pycparser in c:\\users\\kaiet.iglesias_bluet\\appdata\\local\\programs\\python\\python310\\lib\\site-packages (from cffi>=1.12->cryptography) (2.21)\n"
     ]
    }
   ],
   "source": [
    "!pip install cryptography"
   ]
  },
  {
   "cell_type": "code",
   "execution_count": 99,
   "id": "710c19a1-333d-4c29-98f7-91bb08d2c707",
   "metadata": {},
   "outputs": [
    {
     "name": "stdout",
     "output_type": "stream",
     "text": [
      "Requirement already satisfied: matplotlib in c:\\users\\kaiet.iglesias_bluet\\appdata\\local\\programs\\python\\python310\\lib\\site-packages (3.5.1)\n",
      "Requirement already satisfied: python-dateutil>=2.7 in c:\\users\\kaiet.iglesias_bluet\\appdata\\local\\programs\\python\\python310\\lib\\site-packages (from matplotlib) (2.8.2)\n",
      "Requirement already satisfied: pillow>=6.2.0 in c:\\users\\kaiet.iglesias_bluet\\appdata\\local\\programs\\python\\python310\\lib\\site-packages (from matplotlib) (9.0.1)\n",
      "Requirement already satisfied: pyparsing>=2.2.1 in c:\\users\\kaiet.iglesias_bluet\\appdata\\local\\programs\\python\\python310\\lib\\site-packages (from matplotlib) (3.0.7)\n",
      "Requirement already satisfied: fonttools>=4.22.0 in c:\\users\\kaiet.iglesias_bluet\\appdata\\local\\programs\\python\\python310\\lib\\site-packages (from matplotlib) (4.31.1)\n",
      "Requirement already satisfied: packaging>=20.0 in c:\\users\\kaiet.iglesias_bluet\\appdata\\local\\programs\\python\\python310\\lib\\site-packages (from matplotlib) (21.3)\n",
      "Requirement already satisfied: numpy>=1.17 in c:\\users\\kaiet.iglesias_bluet\\appdata\\local\\programs\\python\\python310\\lib\\site-packages (from matplotlib) (1.22.3)\n",
      "Requirement already satisfied: kiwisolver>=1.0.1 in c:\\users\\kaiet.iglesias_bluet\\appdata\\local\\programs\\python\\python310\\lib\\site-packages (from matplotlib) (1.4.0)\n",
      "Requirement already satisfied: cycler>=0.10 in c:\\users\\kaiet.iglesias_bluet\\appdata\\local\\programs\\python\\python310\\lib\\site-packages (from matplotlib) (0.11.0)\n",
      "Requirement already satisfied: six>=1.5 in c:\\users\\kaiet.iglesias_bluet\\appdata\\local\\programs\\python\\python310\\lib\\site-packages (from python-dateutil>=2.7->matplotlib) (1.16.0)\n"
     ]
    }
   ],
   "source": [
    "!pip install matplotlib"
   ]
  },
  {
   "cell_type": "code",
   "execution_count": 100,
   "id": "c62c4392-2ac8-497f-8eec-a01579ac1846",
   "metadata": {},
   "outputs": [],
   "source": [
    "\n",
    "import pandas as pd\n",
    "import numpy as np\n",
    "import pymysql\n",
    "import cryptography\n",
    "import pandas as pd\n",
    "import matplotlib.pyplot as plt"
   ]
  },
  {
   "cell_type": "markdown",
   "id": "f6c1a47a-9ca0-40d7-bd60-0100d37e25a6",
   "metadata": {},
   "source": [
    "Nos conectamos a la base de datos tal y como lo hacemos en los scripts de conectividad:"
   ]
  },
  {
   "cell_type": "code",
   "execution_count": 101,
   "id": "55b93848-7e47-4300-b9d3-7c2efc00e837",
   "metadata": {},
   "outputs": [],
   "source": [
    "\n",
    "host = '34.79.75.171'\n",
    "user = 'admin'\n",
    "password = '12345678'\n",
    "database = 'GET_DATABASE'"
   ]
  },
  {
   "cell_type": "markdown",
   "id": "3b75a8ea-cbf6-4266-b3b7-08b8108cdd38",
   "metadata": {},
   "source": [
    "Construimos el conector de la misma manera que se ha hecho otras veces"
   ]
  },
  {
   "cell_type": "code",
   "execution_count": 102,
   "id": "62599a15-90f5-4c59-8100-58c8697f04c7",
   "metadata": {},
   "outputs": [],
   "source": [
    "connection = pymysql.connect(host=host,\n",
    "                             user=user,\n",
    "                             password=password,\n",
    "                             db=database)\n",
    "\n",
    "cursor = connection.cursor()"
   ]
  },
  {
   "cell_type": "markdown",
   "id": "57d7ca66-45f5-4434-a7fa-95cfcb435bc5",
   "metadata": {},
   "source": [
    "cargamos la función que nos scrapeara los datos"
   ]
  },
  {
   "cell_type": "code",
   "execution_count": 103,
   "id": "41201ec8-8caf-40ca-b66a-aed8723a077b",
   "metadata": {},
   "outputs": [
    {
     "name": "stdout",
     "output_type": "stream",
     "text": [
      "           DIA  humedad_media\n",
      "0   2022-03-17          85.00\n",
      "1   2022-03-18          81.25\n",
      "2   2022-03-19          86.25\n",
      "3   2022-03-20          83.75\n",
      "4   2022-03-21          92.50\n",
      "5   2022-03-22          83.75\n",
      "6   2022-03-23          82.50\n",
      "7   2022-03-24          86.25\n",
      "8   2022-03-25          87.50\n",
      "9   2022-03-26          90.00\n",
      "10  2022-03-27          86.25\n",
      "11  2022-03-28          77.50\n",
      "12  2022-03-29          77.50\n",
      "13  2022-03-30          90.00\n"
     ]
    },
    {
     "name": "stderr",
     "output_type": "stream",
     "text": [
      "C:\\Users\\kaiet.iglesias_bluet\\AppData\\Local\\Programs\\Python\\Python310\\lib\\site-packages\\pandas\\io\\sql.py:761: UserWarning: pandas only support SQLAlchemy connectable(engine/connection) ordatabase string URI or sqlite3 DBAPI2 connectionother DBAPI2 objects are not tested, please consider using SQLAlchemy\n",
      "  warnings.warn(\n"
     ]
    }
   ],
   "source": [
    "def run_query(q):\n",
    "    with pymysql.connect(host=host,\n",
    "                             user=user,\n",
    "                             password=password,\n",
    "                             db=database) as conn:\n",
    "        return pd.read_sql(q, conn)\n",
    "\n",
    "    \n",
    "'''\n",
    "Como en la semana de 28/03 se ha trabajado con las funciones de Google Functions y se está cargando la huedad en una \n",
    "nueva tabla vamos a utilizar la clausula de q1 para extraer la información  tal y como se hace en PowerBi.\n",
    "\n",
    "'''\n",
    "\n",
    "\n",
    "q = 'select * from HUMEDAD;'\n",
    "\n",
    "\n",
    "q1 = '''\n",
    "select DIA, avg(Humedad_relativa) as humedad_media from (\n",
    "    select * from `HUMEDAD`\n",
    "\n",
    "    UNION\n",
    "\n",
    "    select * from `HUMEDAD_prueba`\n",
    "    \n",
    ") as HUMEDAD\n",
    "GROUP BY DIA;\n",
    "\n",
    "'''\n",
    "\n",
    "\n",
    "sentencia = q1\n",
    "\n",
    "\n",
    "print(run_query(sentencia))"
   ]
  },
  {
   "cell_type": "markdown",
   "id": "79947723-8064-4e5c-a524-ed115a6f90a9",
   "metadata": {},
   "source": [
    "Realizamos la gráfica"
   ]
  },
  {
   "cell_type": "code",
   "execution_count": 104,
   "id": "059427f8-4149-48ec-940c-7959954cdc2c",
   "metadata": {},
   "outputs": [
    {
     "name": "stdout",
     "output_type": "stream",
     "text": [
      "          DIA  humedad_media\n",
      "0  2022-03-17          85.00\n",
      "1  2022-03-18          81.25\n",
      "2  2022-03-19          86.25\n",
      "3  2022-03-20          83.75\n",
      "4  2022-03-21          92.50\n"
     ]
    },
    {
     "name": "stderr",
     "output_type": "stream",
     "text": [
      "C:\\Users\\kaiet.iglesias_bluet\\AppData\\Local\\Programs\\Python\\Python310\\lib\\site-packages\\pandas\\io\\sql.py:761: UserWarning: pandas only support SQLAlchemy connectable(engine/connection) ordatabase string URI or sqlite3 DBAPI2 connectionother DBAPI2 objects are not tested, please consider using SQLAlchemy\n",
      "  warnings.warn(\n"
     ]
    }
   ],
   "source": [
    "datos_humedad_historico = run_query(sentencia)\n",
    "\n",
    "#vemos los resultados\n",
    "\n",
    "print(datos_humedad_historico.head())"
   ]
  },
  {
   "cell_type": "code",
   "execution_count": 105,
   "id": "011908a3-4d6e-4c25-a197-5b6760cc8cdc",
   "metadata": {},
   "outputs": [],
   "source": [
    "\n",
    "if sentencia == q: \n",
    "    \n",
    "\n",
    "    datos_humedad_historico = datos_humedad_historico[['Humedad_relativa','DIA','HORA']]\n",
    "\n",
    "    print(datos_humedad_historico.head())"
   ]
  },
  {
   "cell_type": "code",
   "execution_count": 106,
   "id": "db2e99da-0a09-46b1-a388-5695c762e5b9",
   "metadata": {},
   "outputs": [],
   "source": [
    "if sentencia == q: \n",
    "\n",
    "    humedad_media_dia =  pd.pivot_table(datos_humedad_historico, values='Humedad_relativa' , index='DIA')\n",
    "\n",
    "    #vemos el resultado\n",
    "\n",
    "    humedad_media_dia\n",
    "    \n",
    "else: \n",
    "    \n",
    "    humedad_media_dia = datos_humedad_historico.set_index('DIA')"
   ]
  },
  {
   "cell_type": "code",
   "execution_count": 107,
   "id": "a9cd8840-5d3b-433d-b107-c36bb66561d3",
   "metadata": {},
   "outputs": [
    {
     "data": {
      "text/html": [
       "<div>\n",
       "<style scoped>\n",
       "    .dataframe tbody tr th:only-of-type {\n",
       "        vertical-align: middle;\n",
       "    }\n",
       "\n",
       "    .dataframe tbody tr th {\n",
       "        vertical-align: top;\n",
       "    }\n",
       "\n",
       "    .dataframe thead th {\n",
       "        text-align: right;\n",
       "    }\n",
       "</style>\n",
       "<table border=\"1\" class=\"dataframe\">\n",
       "  <thead>\n",
       "    <tr style=\"text-align: right;\">\n",
       "      <th></th>\n",
       "      <th>humedad_media</th>\n",
       "    </tr>\n",
       "    <tr>\n",
       "      <th>DIA</th>\n",
       "      <th></th>\n",
       "    </tr>\n",
       "  </thead>\n",
       "  <tbody>\n",
       "    <tr>\n",
       "      <th>2022-03-17</th>\n",
       "      <td>85.00</td>\n",
       "    </tr>\n",
       "    <tr>\n",
       "      <th>2022-03-18</th>\n",
       "      <td>81.25</td>\n",
       "    </tr>\n",
       "    <tr>\n",
       "      <th>2022-03-19</th>\n",
       "      <td>86.25</td>\n",
       "    </tr>\n",
       "    <tr>\n",
       "      <th>2022-03-20</th>\n",
       "      <td>83.75</td>\n",
       "    </tr>\n",
       "    <tr>\n",
       "      <th>2022-03-21</th>\n",
       "      <td>92.50</td>\n",
       "    </tr>\n",
       "    <tr>\n",
       "      <th>2022-03-22</th>\n",
       "      <td>83.75</td>\n",
       "    </tr>\n",
       "    <tr>\n",
       "      <th>2022-03-23</th>\n",
       "      <td>82.50</td>\n",
       "    </tr>\n",
       "    <tr>\n",
       "      <th>2022-03-24</th>\n",
       "      <td>86.25</td>\n",
       "    </tr>\n",
       "    <tr>\n",
       "      <th>2022-03-25</th>\n",
       "      <td>87.50</td>\n",
       "    </tr>\n",
       "    <tr>\n",
       "      <th>2022-03-26</th>\n",
       "      <td>90.00</td>\n",
       "    </tr>\n",
       "    <tr>\n",
       "      <th>2022-03-27</th>\n",
       "      <td>86.25</td>\n",
       "    </tr>\n",
       "    <tr>\n",
       "      <th>2022-03-28</th>\n",
       "      <td>77.50</td>\n",
       "    </tr>\n",
       "    <tr>\n",
       "      <th>2022-03-29</th>\n",
       "      <td>77.50</td>\n",
       "    </tr>\n",
       "    <tr>\n",
       "      <th>2022-03-30</th>\n",
       "      <td>90.00</td>\n",
       "    </tr>\n",
       "  </tbody>\n",
       "</table>\n",
       "</div>"
      ],
      "text/plain": [
       "            humedad_media\n",
       "DIA                      \n",
       "2022-03-17          85.00\n",
       "2022-03-18          81.25\n",
       "2022-03-19          86.25\n",
       "2022-03-20          83.75\n",
       "2022-03-21          92.50\n",
       "2022-03-22          83.75\n",
       "2022-03-23          82.50\n",
       "2022-03-24          86.25\n",
       "2022-03-25          87.50\n",
       "2022-03-26          90.00\n",
       "2022-03-27          86.25\n",
       "2022-03-28          77.50\n",
       "2022-03-29          77.50\n",
       "2022-03-30          90.00"
      ]
     },
     "execution_count": 107,
     "metadata": {},
     "output_type": "execute_result"
    }
   ],
   "source": [
    "humedad_media_dia"
   ]
  },
  {
   "cell_type": "code",
   "execution_count": 108,
   "id": "8cc91a5c-7ad7-47e1-b14c-d5c45c524761",
   "metadata": {},
   "outputs": [
    {
     "data": {
      "image/png": "[encoded data removed]",
      "text/plain": [
       "<Figure size 432x288 with 1 Axes>"
      ]
     },
     "metadata": {
      "needs_background": "light"
     },
     "output_type": "display_data"
    }
   ],
   "source": [
    "\n",
    "\n",
    "if sentencia == q1: \n",
    "    \n",
    "    humedad_media_dia['humedad_media'].plot()\n",
    "    plt.title('Evolución de humedad ')\n",
    "    plt.xticks(rotation = 90)\n",
    "    plt.show()\n",
    "\n",
    "else: \n",
    "    \n",
    "    humedad_media_dia['Humedad_relativa'].plot()\n",
    "    plt.title('Evolución de humedad ')\n",
    "    plt.xticks(rotation = 90)\n",
    "    plt.show()\n",
    "    "
   ]
  },
  {
   "cell_type": "code",
   "execution_count": null,
   "id": "405da06e-960b-4033-9f2c-2818dd4618c2",
   "metadata": {},
   "outputs": [],
   "source": []
  },
  {
   "cell_type": "code",
   "execution_count": null,
   "id": "e63b87ad-09dd-4efe-bd7f-27d6db4d88a4",
   "metadata": {},
   "outputs": [],
   "source": []
  }
 ],
 "metadata": {
  "kernelspec": {
   "display_name": "Python 3 (ipykernel)",
   "language": "python",
   "name": "python3"
  },
  "language_info": {
   "codemirror_mode": {
    "name": "ipython",
    "version": 3
   },
   "file_extension": ".py",
   "mimetype": "text/x-python",
   "name": "python",
   "nbconvert_exporter": "python",
   "pygments_lexer": "ipython3",
   "version": "3.10.2"
  }
 },
 "nbformat": 4,
 "nbformat_minor": 5
}
