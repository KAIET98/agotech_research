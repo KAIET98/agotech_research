{
 "cells": [
  {
   "cell_type": "markdown",
   "id": "2d0a7e5c-c868-4c4a-b975-7bdf37b26711",
   "metadata": {},
   "source": [
    "# Control de cargas de la tabla de metereologia"
   ]
  },
  {
   "cell_type": "code",
   "execution_count": 1,
   "id": "da39cd8d-2722-46ca-8ad9-649c6a6c15f3",
   "metadata": {},
   "outputs": [
    {
     "name": "stdout",
     "output_type": "stream",
     "text": [
      "Requirement already satisfied: pymysql in c:\\users\\kaiet.iglesias_bluet\\appdata\\local\\programs\\python\\python310\\lib\\site-packages (1.0.2)\n"
     ]
    }
   ],
   "source": [
    "!pip install pymysql"
   ]
  },
  {
   "cell_type": "code",
   "execution_count": 2,
   "id": "03838691-ea38-4ee5-a613-6fe28d4f64fe",
   "metadata": {},
   "outputs": [
    {
     "name": "stdout",
     "output_type": "stream",
     "text": [
      "Requirement already satisfied: cryptography in c:\\users\\kaiet.iglesias_bluet\\appdata\\local\\programs\\python\\python310\\lib\\site-packages (36.0.2)\n",
      "Requirement already satisfied: cffi>=1.12 in c:\\users\\kaiet.iglesias_bluet\\appdata\\local\\programs\\python\\python310\\lib\\site-packages (from cryptography) (1.15.0)\n",
      "Requirement already satisfied: pycparser in c:\\users\\kaiet.iglesias_bluet\\appdata\\local\\programs\\python\\python310\\lib\\site-packages (from cffi>=1.12->cryptography) (2.21)\n"
     ]
    }
   ],
   "source": [
    "!pip install cryptography"
   ]
  },
  {
   "cell_type": "code",
   "execution_count": 3,
   "id": "710c19a1-333d-4c29-98f7-91bb08d2c707",
   "metadata": {},
   "outputs": [
    {
     "name": "stdout",
     "output_type": "stream",
     "text": [
      "Requirement already satisfied: matplotlib in c:\\users\\kaiet.iglesias_bluet\\appdata\\local\\programs\\python\\python310\\lib\\site-packages (3.5.1)\n",
      "Requirement already satisfied: python-dateutil>=2.7 in c:\\users\\kaiet.iglesias_bluet\\appdata\\local\\programs\\python\\python310\\lib\\site-packages (from matplotlib) (2.8.2)\n",
      "Requirement already satisfied: packaging>=20.0 in c:\\users\\kaiet.iglesias_bluet\\appdata\\local\\programs\\python\\python310\\lib\\site-packages (from matplotlib) (21.3)\n",
      "Requirement already satisfied: kiwisolver>=1.0.1 in c:\\users\\kaiet.iglesias_bluet\\appdata\\local\\programs\\python\\python310\\lib\\site-packages (from matplotlib) (1.4.0)\n",
      "Requirement already satisfied: numpy>=1.17 in c:\\users\\kaiet.iglesias_bluet\\appdata\\local\\programs\\python\\python310\\lib\\site-packages (from matplotlib) (1.22.3)\n",
      "Requirement already satisfied: pyparsing>=2.2.1 in c:\\users\\kaiet.iglesias_bluet\\appdata\\local\\programs\\python\\python310\\lib\\site-packages (from matplotlib) (3.0.7)\n",
      "Requirement already satisfied: pillow>=6.2.0 in c:\\users\\kaiet.iglesias_bluet\\appdata\\local\\programs\\python\\python310\\lib\\site-packages (from matplotlib) (9.0.1)\n",
      "Requirement already satisfied: cycler>=0.10 in c:\\users\\kaiet.iglesias_bluet\\appdata\\local\\programs\\python\\python310\\lib\\site-packages (from matplotlib) (0.11.0)\n",
      "Requirement already satisfied: fonttools>=4.22.0 in c:\\users\\kaiet.iglesias_bluet\\appdata\\local\\programs\\python\\python310\\lib\\site-packages (from matplotlib) (4.31.1)\n",
      "Requirement already satisfied: six>=1.5 in c:\\users\\kaiet.iglesias_bluet\\appdata\\local\\programs\\python\\python310\\lib\\site-packages (from python-dateutil>=2.7->matplotlib) (1.16.0)\n"
     ]
    }
   ],
   "source": [
    "!pip install matplotlib"
   ]
  },
  {
   "cell_type": "code",
   "execution_count": 4,
   "id": "c62c4392-2ac8-497f-8eec-a01579ac1846",
   "metadata": {},
   "outputs": [],
   "source": [
    "\n",
    "import pandas as pd\n",
    "import numpy as np\n",
    "import pymysql\n",
    "import cryptography\n",
    "import pandas as pd\n",
    "import matplotlib.pyplot as plt"
   ]
  },
  {
   "cell_type": "markdown",
   "id": "f6c1a47a-9ca0-40d7-bd60-0100d37e25a6",
   "metadata": {},
   "source": [
    "Nos conectamos a la base de datos tal y como lo hacemos en los scripts de conectividad:"
   ]
  },
  {
   "cell_type": "code",
   "execution_count": 5,
   "id": "55b93848-7e47-4300-b9d3-7c2efc00e837",
   "metadata": {},
   "outputs": [],
   "source": [
    "\n",
    "host = '34.79.75.171'\n",
    "user = 'admin'\n",
    "password = '12345678'\n",
    "database = 'GET_DATABASE'"
   ]
  },
  {
   "cell_type": "markdown",
   "id": "3b75a8ea-cbf6-4266-b3b7-08b8108cdd38",
   "metadata": {},
   "source": [
    "Construimos el conector de la misma manera que se ha hecho otras veces"
   ]
  },
  {
   "cell_type": "code",
   "execution_count": 6,
   "id": "62599a15-90f5-4c59-8100-58c8697f04c7",
   "metadata": {},
   "outputs": [],
   "source": [
    "connection = pymysql.connect(host=host,\n",
    "                             user=user,\n",
    "                             password=password,\n",
    "                             db=database)\n",
    "\n",
    "cursor = connection.cursor()"
   ]
  },
  {
   "cell_type": "markdown",
   "id": "57d7ca66-45f5-4434-a7fa-95cfcb435bc5",
   "metadata": {},
   "source": [
    "cargamos la función que nos scrapeara los datos"
   ]
  },
  {
   "cell_type": "code",
   "execution_count": 7,
   "id": "41201ec8-8caf-40ca-b66a-aed8723a077b",
   "metadata": {},
   "outputs": [
    {
     "name": "stderr",
     "output_type": "stream",
     "text": [
      "C:\\Users\\kaiet.iglesias_bluet\\AppData\\Local\\Programs\\Python\\Python310\\lib\\site-packages\\pandas\\io\\sql.py:761: UserWarning: pandas only support SQLAlchemy connectable(engine/connection) ordatabase string URI or sqlite3 DBAPI2 connectionother DBAPI2 objects are not tested, please consider using SQLAlchemy\n",
      "  warnings.warn(\n"
     ]
    },
    {
     "name": "stdout",
     "output_type": "stream",
     "text": [
      "           fecha             Estacion Provincia  Temperatura_media  \\\n",
      "0     1998-01-01  ALBACETE BASE AÉREA  ALBACETE                  6   \n",
      "1     1998-01-02  ALBACETE BASE AÉREA  ALBACETE                  6   \n",
      "2     1998-01-03  ALBACETE BASE AÉREA  ALBACETE                 11   \n",
      "3     1998-01-04  ALBACETE BASE AÉREA  ALBACETE                 11   \n",
      "4     1998-01-05  ALBACETE BASE AÉREA  ALBACETE                  9   \n",
      "...          ...                  ...       ...                ...   \n",
      "9308  2022-03-23  ALBACETE BASE AÉREA  ALBACETE                  8   \n",
      "9309  2022-03-24  ALBACETE BASE AÉREA  ALBACETE                 10   \n",
      "9310  2022-03-25  ALBACETE BASE AÉREA  ALBACETE                 10   \n",
      "9311  2022-03-25  ALBACETE BASE AÉREA  ALBACETE                 10   \n",
      "9312  2022-03-26  ALBACETE BASE AÉREA  ALBACETE                  9   \n",
      "\n",
      "      Precipitacion_l_m3  Temperatura_minima  Temperatura_maxima  \\\n",
      "0                      0                 2.4                 8.6   \n",
      "1                      0                 2.0                 9.8   \n",
      "2                      0                 7.2                15.2   \n",
      "3                      0                 9.2                13.1   \n",
      "4                      0                 3.0                15.0   \n",
      "...                  ...                 ...                 ...   \n",
      "9308                   0                 7.1                 9.2   \n",
      "9309                   0                 8.2                12.8   \n",
      "9310                   1                 8.4                11.1   \n",
      "9311                   1                 8.4                11.1   \n",
      "9312                   1                 7.6                10.1   \n",
      "\n",
      "     Direccion_viento  Velocidad_media  Presion_maxima  Presion_minima  \\\n",
      "0                 999            999.0           940.4           930.9   \n",
      "1                 999            999.0           941.8           939.2   \n",
      "2                 999            999.0           944.7           941.8   \n",
      "3                 999            999.0           943.5           941.6   \n",
      "4                 999            999.0           944.3           941.4   \n",
      "...               ...              ...             ...             ...   \n",
      "9308                7              7.8           940.9           936.7   \n",
      "9309                9              6.9           938.2           935.9   \n",
      "9310                6              7.5           937.1           932.9   \n",
      "9311                6              7.5           937.1           932.9   \n",
      "9312                4              6.7           939.8           933.3   \n",
      "\n",
      "      Prom_temperatura_media_prov  Grados_debajo_siete  Presion_externa  \n",
      "0                          13.150                  1.5           935.65  \n",
      "1                          13.400                  1.1           940.50  \n",
      "2                          15.550                  0.0           943.25  \n",
      "3                          15.025                  0.0           942.55  \n",
      "4                           5.450                  0.0           942.85  \n",
      "...                           ...                  ...              ...  \n",
      "9308                       10.775                  0.0           938.80  \n",
      "9309                       12.200                  0.0           937.05  \n",
      "9310                       13.525                  0.0           935.00  \n",
      "9311                        2.950                  0.0           935.00  \n",
      "9312                        0.875                  0.0           936.55  \n",
      "\n",
      "[9313 rows x 14 columns]\n"
     ]
    }
   ],
   "source": [
    "def run_query(q):\n",
    "    with pymysql.connect(host=host,\n",
    "                             user=user,\n",
    "                             password=password,\n",
    "                             db=database) as conn:\n",
    "        return pd.read_sql(q, conn)\n",
    "\n",
    "    \n",
    "'''\n",
    "Como en la semana de 28/03 se ha trabajado con las funciones de Google Functions y se está cargando la huedad en una \n",
    "nueva tabla vamos a utilizar la clausula de q1 para extraer la información  tal y como se hace en PowerBi.\n",
    "\n",
    "'''\n",
    "\n",
    "\n",
    "q = 'select * from METEREOLOGIA where Temperatura_media < 900;'\n",
    "\n",
    "\n",
    "\n",
    "sentencia = q\n",
    "\n",
    "\n",
    "print(run_query(sentencia))"
   ]
  },
  {
   "cell_type": "markdown",
   "id": "79947723-8064-4e5c-a524-ed115a6f90a9",
   "metadata": {},
   "source": [
    "Realizamos la gráfica"
   ]
  },
  {
   "cell_type": "code",
   "execution_count": 8,
   "id": "059427f8-4149-48ec-940c-7959954cdc2c",
   "metadata": {},
   "outputs": [
    {
     "name": "stderr",
     "output_type": "stream",
     "text": [
      "C:\\Users\\kaiet.iglesias_bluet\\AppData\\Local\\Programs\\Python\\Python310\\lib\\site-packages\\pandas\\io\\sql.py:761: UserWarning: pandas only support SQLAlchemy connectable(engine/connection) ordatabase string URI or sqlite3 DBAPI2 connectionother DBAPI2 objects are not tested, please consider using SQLAlchemy\n",
      "  warnings.warn(\n"
     ]
    },
    {
     "name": "stdout",
     "output_type": "stream",
     "text": [
      "        fecha             Estacion Provincia  Temperatura_media  \\\n",
      "0  1998-01-01  ALBACETE BASE AÉREA  ALBACETE                  6   \n",
      "1  1998-01-02  ALBACETE BASE AÉREA  ALBACETE                  6   \n",
      "2  1998-01-03  ALBACETE BASE AÉREA  ALBACETE                 11   \n",
      "3  1998-01-04  ALBACETE BASE AÉREA  ALBACETE                 11   \n",
      "4  1998-01-05  ALBACETE BASE AÉREA  ALBACETE                  9   \n",
      "\n",
      "   Precipitacion_l_m3  Temperatura_minima  Temperatura_maxima  \\\n",
      "0                   0                 2.4                 8.6   \n",
      "1                   0                 2.0                 9.8   \n",
      "2                   0                 7.2                15.2   \n",
      "3                   0                 9.2                13.1   \n",
      "4                   0                 3.0                15.0   \n",
      "\n",
      "  Direccion_viento  Velocidad_media  Presion_maxima  Presion_minima  \\\n",
      "0              999            999.0           940.4           930.9   \n",
      "1              999            999.0           941.8           939.2   \n",
      "2              999            999.0           944.7           941.8   \n",
      "3              999            999.0           943.5           941.6   \n",
      "4              999            999.0           944.3           941.4   \n",
      "\n",
      "   Prom_temperatura_media_prov  Grados_debajo_siete  Presion_externa  \n",
      "0                       13.150                  1.5           935.65  \n",
      "1                       13.400                  1.1           940.50  \n",
      "2                       15.550                  0.0           943.25  \n",
      "3                       15.025                  0.0           942.55  \n",
      "4                        5.450                  0.0           942.85  \n"
     ]
    }
   ],
   "source": [
    "datos_humedad_historico = run_query(sentencia)\n",
    "\n",
    "#vemos los resultados\n",
    "\n",
    "print(datos_humedad_historico.head())"
   ]
  },
  {
   "cell_type": "code",
   "execution_count": 9,
   "id": "db2e99da-0a09-46b1-a388-5695c762e5b9",
   "metadata": {},
   "outputs": [],
   "source": [
    "try: \n",
    "    \n",
    "    if sentencia == q: \n",
    "\n",
    "        humedad_media_dia =  pd.pivot_table(datos_humedad_historico, values='Temperatura_media' , index='fecha')\n",
    "\n",
    "        #vemos el resultado\n",
    "\n",
    "        #humedad_media_dia\n",
    "    \n",
    "    else: \n",
    "\n",
    "        humedad_media_dia = datos_humedad_historico.set_index('DIA')\n",
    "        \n",
    "except: \n",
    "    \n",
    "    print('Algo falla')"
   ]
  },
  {
   "cell_type": "code",
   "execution_count": 10,
   "id": "8cc91a5c-7ad7-47e1-b14c-d5c45c524761",
   "metadata": {},
   "outputs": [
    {
     "data": {
      "image/png": "[encoded data removed]",
      "text/plain": [
       "<Figure size 432x288 with 1 Axes>"
      ]
     },
     "metadata": {
      "needs_background": "light"
     },
     "output_type": "display_data"
    }
   ],
   "source": [
    "\n",
    "\n",
    "try: \n",
    "    \n",
    "    humedad_media_dia['Temperatura_media'].plot()\n",
    "    plt.title('Evolución de la temperatura')\n",
    "    plt.xticks(rotation = 90)\n",
    "    plt.show()\n",
    "\n",
    "except:\n",
    "    \n",
    "    print('Algo falla')\n"
   ]
  },
  {
   "cell_type": "code",
   "execution_count": 24,
   "id": "43324042-ff80-4a55-beb6-9a8ff48d8a8e",
   "metadata": {},
   "outputs": [
    {
     "name": "stderr",
     "output_type": "stream",
     "text": [
      "C:\\Users\\kaiet.iglesias_bluet\\AppData\\Local\\Programs\\Python\\Python310\\lib\\site-packages\\pandas\\io\\sql.py:761: UserWarning: pandas only support SQLAlchemy connectable(engine/connection) ordatabase string URI or sqlite3 DBAPI2 connectionother DBAPI2 objects are not tested, please consider using SQLAlchemy\n",
      "  warnings.warn(\n"
     ]
    },
    {
     "name": "stdout",
     "output_type": "stream",
     "text": [
      "        fecha  Temperatura_media\n",
      "0  1998-01-01                  6\n",
      "1  1998-01-02                  6\n",
      "2  1998-01-03                 11\n",
      "3  1998-01-04                 11\n",
      "4  1998-01-05                  9\n",
      "\n",
      " ###################### \n",
      "\n",
      "           fecha  Temperatura_media\n",
      "9308  2022-03-23                  8\n",
      "9309  2022-03-24                 10\n",
      "9310  2022-03-25                 10\n",
      "9311  2022-03-25                 10\n",
      "9312  2022-03-26                  9\n"
     ]
    }
   ],
   "source": [
    "\n",
    "datos_humedad_historico = run_query(sentencia)\n",
    "datos_humedad_historico =  datos_humedad_historico[['fecha', 'Temperatura_media']]\n",
    "\n",
    "print(datos_humedad_historico.head())\n",
    "\n",
    "print('\\n ###################### \\n')\n",
    "\n",
    "print(datos_humedad_historico.tail())"
   ]
  },
  {
   "cell_type": "code",
   "execution_count": 25,
   "id": "59d16ce2-3105-4b73-9e02-231495e41e84",
   "metadata": {},
   "outputs": [
    {
     "data": {
      "text/html": [
       "<div>\n",
       "<style scoped>\n",
       "    .dataframe tbody tr th:only-of-type {\n",
       "        vertical-align: middle;\n",
       "    }\n",
       "\n",
       "    .dataframe tbody tr th {\n",
       "        vertical-align: top;\n",
       "    }\n",
       "\n",
       "    .dataframe thead th {\n",
       "        text-align: right;\n",
       "    }\n",
       "</style>\n",
       "<table border=\"1\" class=\"dataframe\">\n",
       "  <thead>\n",
       "    <tr style=\"text-align: right;\">\n",
       "      <th></th>\n",
       "      <th>fecha</th>\n",
       "      <th>Temperatura_media</th>\n",
       "    </tr>\n",
       "  </thead>\n",
       "  <tbody>\n",
       "  </tbody>\n",
       "</table>\n",
       "</div>"
      ],
      "text/plain": [
       "Empty DataFrame\n",
       "Columns: [fecha, Temperatura_media]\n",
       "Index: []"
      ]
     },
     "execution_count": 25,
     "metadata": {},
     "output_type": "execute_result"
    }
   ],
   "source": [
    "datos_humedad_historico[datos_humedad_historico['fecha'] == '2022-01-01' ]"
   ]
  },
  {
   "cell_type": "code",
   "execution_count": null,
   "id": "3fd7c9b1-d802-4e67-95f8-8cc6c5ca4526",
   "metadata": {},
   "outputs": [],
   "source": []
  }
 ],
 "metadata": {
  "kernelspec": {
   "display_name": "Python 3 (ipykernel)",
   "language": "python",
   "name": "python3"
  },
  "language_info": {
   "codemirror_mode": {
    "name": "ipython",
    "version": 3
   },
   "file_extension": ".py",
   "mimetype": "text/x-python",
   "name": "python",
   "nbconvert_exporter": "python",
   "pygments_lexer": "ipython3",
   "version": "3.10.2"
  }
 },
 "nbformat": 4,
 "nbformat_minor": 5
}
